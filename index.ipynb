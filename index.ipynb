{
 "cells": [
  {
   "cell_type": "markdown",
   "metadata": {},
   "source": [
    "# Scrubbing Our Data - Lab\n",
    "\n",
    "## Introduction\n",
    "\n",
    "In the previous labs, we joined the data from our separate files into a single DataFrame.  In this lab, we'll scrub the data to get it ready for exploration and modeling!\n",
    "\n",
    "## Objectives\n",
    "\n",
    "You will be able to:\n",
    "\n",
    "* Cast columns to the appropriate data types\n",
    "* Identify and deal with null values appropriately\n",
    "* Remove unnecessary columns\n",
    "* Understand how to normalize data\n",
    "\n",
    "\n",
    "## Getting Started\n",
    "\n",
    "You'll find the resulting dataset from our work in the _Obtaining Data_ Lab stored within the file `walmart_data_not_cleaned.csv`.  \n",
    "\n",
    "In the cells below:\n",
    "\n",
    "* Import pandas and set the standard alias\n",
    "* Import numpy and set the standard alias\n",
    "* Import matplotlib.pyplot and set the standard alias\n",
    "* Import seaborn and set the alias `sns` (this is the standard alias for seaborn)\n",
    "* Use the ipython magic command to set all matplotlib visualizations to display inline in the the notebook\n",
    "* Load the dataset stored in the .csv file into a DataFrame using pandas\n",
    "* Inspect the head of the DataFrame to ensure everything loaded correctly"
   ]
  },
  {
   "cell_type": "code",
   "execution_count": 2,
   "metadata": {
    "scrolled": true
   },
   "outputs": [],
   "source": [
    "# Import statements go here\n",
    "import pandas as pd\n",
    "import numpy as np\n",
    "import matplotlib.pyplot as plt\n",
    "import seaborn as sns\n",
    "%matplotlib inline"
   ]
  },
  {
   "cell_type": "code",
   "execution_count": 27,
   "metadata": {},
   "outputs": [
    {
     "data": {
      "text/html": [
       "<div>\n",
       "<style scoped>\n",
       "    .dataframe tbody tr th:only-of-type {\n",
       "        vertical-align: middle;\n",
       "    }\n",
       "\n",
       "    .dataframe tbody tr th {\n",
       "        vertical-align: top;\n",
       "    }\n",
       "\n",
       "    .dataframe thead th {\n",
       "        text-align: right;\n",
       "    }\n",
       "</style>\n",
       "<table border=\"1\" class=\"dataframe\">\n",
       "  <thead>\n",
       "    <tr style=\"text-align: right;\">\n",
       "      <th></th>\n",
       "      <th>Store</th>\n",
       "      <th>Dept</th>\n",
       "      <th>Date</th>\n",
       "      <th>Weekly_Sales</th>\n",
       "      <th>IsHoliday</th>\n",
       "      <th>Type</th>\n",
       "      <th>Size</th>\n",
       "      <th>Temperature</th>\n",
       "      <th>Fuel_Price</th>\n",
       "      <th>MarkDown1</th>\n",
       "      <th>MarkDown2</th>\n",
       "      <th>MarkDown3</th>\n",
       "      <th>MarkDown4</th>\n",
       "      <th>MarkDown5</th>\n",
       "      <th>CPI</th>\n",
       "      <th>Unemployment</th>\n",
       "    </tr>\n",
       "  </thead>\n",
       "  <tbody>\n",
       "    <tr>\n",
       "      <th>0</th>\n",
       "      <td>1</td>\n",
       "      <td>1</td>\n",
       "      <td>2010-02-05</td>\n",
       "      <td>24924.50</td>\n",
       "      <td>False</td>\n",
       "      <td>A</td>\n",
       "      <td>151315</td>\n",
       "      <td>42.31</td>\n",
       "      <td>2.572</td>\n",
       "      <td>NaN</td>\n",
       "      <td>NaN</td>\n",
       "      <td>NaN</td>\n",
       "      <td>NaN</td>\n",
       "      <td>NaN</td>\n",
       "      <td>211.096358</td>\n",
       "      <td>8.106</td>\n",
       "    </tr>\n",
       "    <tr>\n",
       "      <th>1</th>\n",
       "      <td>1</td>\n",
       "      <td>2</td>\n",
       "      <td>2010-02-05</td>\n",
       "      <td>50605.27</td>\n",
       "      <td>False</td>\n",
       "      <td>A</td>\n",
       "      <td>151315</td>\n",
       "      <td>42.31</td>\n",
       "      <td>2.572</td>\n",
       "      <td>NaN</td>\n",
       "      <td>NaN</td>\n",
       "      <td>NaN</td>\n",
       "      <td>NaN</td>\n",
       "      <td>NaN</td>\n",
       "      <td>211.096358</td>\n",
       "      <td>8.106</td>\n",
       "    </tr>\n",
       "    <tr>\n",
       "      <th>2</th>\n",
       "      <td>1</td>\n",
       "      <td>3</td>\n",
       "      <td>2010-02-05</td>\n",
       "      <td>13740.12</td>\n",
       "      <td>False</td>\n",
       "      <td>A</td>\n",
       "      <td>151315</td>\n",
       "      <td>42.31</td>\n",
       "      <td>2.572</td>\n",
       "      <td>NaN</td>\n",
       "      <td>NaN</td>\n",
       "      <td>NaN</td>\n",
       "      <td>NaN</td>\n",
       "      <td>NaN</td>\n",
       "      <td>211.096358</td>\n",
       "      <td>8.106</td>\n",
       "    </tr>\n",
       "    <tr>\n",
       "      <th>3</th>\n",
       "      <td>1</td>\n",
       "      <td>4</td>\n",
       "      <td>2010-02-05</td>\n",
       "      <td>39954.04</td>\n",
       "      <td>False</td>\n",
       "      <td>A</td>\n",
       "      <td>151315</td>\n",
       "      <td>42.31</td>\n",
       "      <td>2.572</td>\n",
       "      <td>NaN</td>\n",
       "      <td>NaN</td>\n",
       "      <td>NaN</td>\n",
       "      <td>NaN</td>\n",
       "      <td>NaN</td>\n",
       "      <td>211.096358</td>\n",
       "      <td>8.106</td>\n",
       "    </tr>\n",
       "    <tr>\n",
       "      <th>4</th>\n",
       "      <td>1</td>\n",
       "      <td>5</td>\n",
       "      <td>2010-02-05</td>\n",
       "      <td>32229.38</td>\n",
       "      <td>False</td>\n",
       "      <td>A</td>\n",
       "      <td>151315</td>\n",
       "      <td>42.31</td>\n",
       "      <td>2.572</td>\n",
       "      <td>NaN</td>\n",
       "      <td>NaN</td>\n",
       "      <td>NaN</td>\n",
       "      <td>NaN</td>\n",
       "      <td>NaN</td>\n",
       "      <td>211.096358</td>\n",
       "      <td>8.106</td>\n",
       "    </tr>\n",
       "  </tbody>\n",
       "</table>\n",
       "</div>"
      ],
      "text/plain": [
       "   Store  Dept        Date  Weekly_Sales  IsHoliday Type    Size  Temperature  \\\n",
       "0      1     1  2010-02-05      24924.50      False    A  151315        42.31   \n",
       "1      1     2  2010-02-05      50605.27      False    A  151315        42.31   \n",
       "2      1     3  2010-02-05      13740.12      False    A  151315        42.31   \n",
       "3      1     4  2010-02-05      39954.04      False    A  151315        42.31   \n",
       "4      1     5  2010-02-05      32229.38      False    A  151315        42.31   \n",
       "\n",
       "   Fuel_Price  MarkDown1  MarkDown2  MarkDown3  MarkDown4  MarkDown5  \\\n",
       "0       2.572        NaN        NaN        NaN        NaN        NaN   \n",
       "1       2.572        NaN        NaN        NaN        NaN        NaN   \n",
       "2       2.572        NaN        NaN        NaN        NaN        NaN   \n",
       "3       2.572        NaN        NaN        NaN        NaN        NaN   \n",
       "4       2.572        NaN        NaN        NaN        NaN        NaN   \n",
       "\n",
       "          CPI  Unemployment  \n",
       "0  211.096358         8.106  \n",
       "1  211.096358         8.106  \n",
       "2  211.096358         8.106  \n",
       "3  211.096358         8.106  \n",
       "4  211.096358         8.106  "
      ]
     },
     "execution_count": 27,
     "metadata": {},
     "output_type": "execute_result"
    }
   ],
   "source": [
    "df = pd.read_csv('walmart_data_not_cleaned.csv')\n",
    "df.head()"
   ]
  },
  {
   "cell_type": "code",
   "execution_count": null,
   "metadata": {},
   "outputs": [],
   "source": [
    "# Now, load in the dataset and inspect the head to make sure everything loaded correctly\n",
    "df = None"
   ]
  },
  {
   "cell_type": "code",
   "execution_count": 28,
   "metadata": {
    "scrolled": true
   },
   "outputs": [
    {
     "name": "stdout",
     "output_type": "stream",
     "text": [
      "<class 'pandas.core.frame.DataFrame'>\n",
      "RangeIndex: 421570 entries, 0 to 421569\n",
      "Data columns (total 16 columns):\n",
      "Store           421570 non-null int64\n",
      "Dept            421570 non-null int64\n",
      "Date            421570 non-null object\n",
      "Weekly_Sales    421570 non-null float64\n",
      "IsHoliday       421570 non-null bool\n",
      "Type            421570 non-null object\n",
      "Size            421570 non-null int64\n",
      "Temperature     421570 non-null float64\n",
      "Fuel_Price      421570 non-null float64\n",
      "MarkDown1       150681 non-null float64\n",
      "MarkDown2       111248 non-null float64\n",
      "MarkDown3       137091 non-null float64\n",
      "MarkDown4       134967 non-null float64\n",
      "MarkDown5       151432 non-null float64\n",
      "CPI             421570 non-null float64\n",
      "Unemployment    421570 non-null float64\n",
      "dtypes: bool(1), float64(10), int64(3), object(2)\n",
      "memory usage: 48.6+ MB\n"
     ]
    }
   ],
   "source": [
    "df.info()"
   ]
  },
  {
   "cell_type": "code",
   "execution_count": 29,
   "metadata": {},
   "outputs": [
    {
     "data": {
      "text/plain": [
       "Index(['Store', 'Dept', 'Date', 'Weekly_Sales', 'IsHoliday', 'Type', 'Size',\n",
       "       'Temperature', 'Fuel_Price', 'MarkDown1', 'MarkDown2', 'MarkDown3',\n",
       "       'MarkDown4', 'MarkDown5', 'CPI', 'Unemployment'],\n",
       "      dtype='object')"
      ]
     },
     "execution_count": 29,
     "metadata": {},
     "output_type": "execute_result"
    }
   ],
   "source": [
    "df.columns"
   ]
  },
  {
   "cell_type": "code",
   "execution_count": 30,
   "metadata": {},
   "outputs": [
    {
     "data": {
      "text/plain": [
       "13    10474\n",
       "10    10315\n",
       "4     10272\n",
       "1     10244\n",
       "2     10238\n",
       "24    10228\n",
       "27    10225\n",
       "34    10224\n",
       "20    10214\n",
       "6     10211\n",
       "32    10202\n",
       "19    10148\n",
       "31    10142\n",
       "28    10113\n",
       "41    10088\n",
       "11    10062\n",
       "23    10050\n",
       "14    10040\n",
       "40    10017\n",
       "15     9901\n",
       "8      9895\n",
       "39     9878\n",
       "17     9864\n",
       "18     9859\n",
       "26     9854\n",
       "25     9804\n",
       "7      9762\n",
       "12     9705\n",
       "22     9688\n",
       "45     9637\n",
       "21     9582\n",
       "35     9528\n",
       "29     9455\n",
       "16     9443\n",
       "3      9036\n",
       "5      8999\n",
       "9      8867\n",
       "38     7362\n",
       "37     7206\n",
       "44     7169\n",
       "30     7156\n",
       "42     6953\n",
       "43     6751\n",
       "33     6487\n",
       "36     6222\n",
       "Name: Store, dtype: int64"
      ]
     },
     "execution_count": 30,
     "metadata": {},
     "output_type": "execute_result"
    }
   ],
   "source": [
    "df['Store'].value_counts()"
   ]
  },
  {
   "cell_type": "code",
   "execution_count": 31,
   "metadata": {},
   "outputs": [
    {
     "data": {
      "text/plain": [
       "(421570, 16)"
      ]
     },
     "execution_count": 31,
     "metadata": {},
     "output_type": "execute_result"
    }
   ],
   "source": [
    "df.shape"
   ]
  },
  {
   "cell_type": "code",
   "execution_count": 32,
   "metadata": {},
   "outputs": [
    {
     "data": {
      "text/html": [
       "<div>\n",
       "<style scoped>\n",
       "    .dataframe tbody tr th:only-of-type {\n",
       "        vertical-align: middle;\n",
       "    }\n",
       "\n",
       "    .dataframe tbody tr th {\n",
       "        vertical-align: top;\n",
       "    }\n",
       "\n",
       "    .dataframe thead th {\n",
       "        text-align: right;\n",
       "    }\n",
       "</style>\n",
       "<table border=\"1\" class=\"dataframe\">\n",
       "  <thead>\n",
       "    <tr style=\"text-align: right;\">\n",
       "      <th></th>\n",
       "      <th>Store</th>\n",
       "      <th>Dept</th>\n",
       "      <th>Weekly_Sales</th>\n",
       "      <th>Size</th>\n",
       "      <th>Temperature</th>\n",
       "      <th>Fuel_Price</th>\n",
       "      <th>MarkDown1</th>\n",
       "      <th>MarkDown2</th>\n",
       "      <th>MarkDown3</th>\n",
       "      <th>MarkDown4</th>\n",
       "      <th>MarkDown5</th>\n",
       "      <th>CPI</th>\n",
       "      <th>Unemployment</th>\n",
       "    </tr>\n",
       "  </thead>\n",
       "  <tbody>\n",
       "    <tr>\n",
       "      <th>count</th>\n",
       "      <td>421570.000000</td>\n",
       "      <td>421570.000000</td>\n",
       "      <td>421570.000000</td>\n",
       "      <td>421570.000000</td>\n",
       "      <td>421570.000000</td>\n",
       "      <td>421570.000000</td>\n",
       "      <td>150681.000000</td>\n",
       "      <td>111248.000000</td>\n",
       "      <td>137091.000000</td>\n",
       "      <td>134967.000000</td>\n",
       "      <td>151432.000000</td>\n",
       "      <td>421570.000000</td>\n",
       "      <td>421570.000000</td>\n",
       "    </tr>\n",
       "    <tr>\n",
       "      <th>mean</th>\n",
       "      <td>22.200546</td>\n",
       "      <td>44.260317</td>\n",
       "      <td>15981.258123</td>\n",
       "      <td>136727.915739</td>\n",
       "      <td>60.090059</td>\n",
       "      <td>3.361027</td>\n",
       "      <td>7246.420196</td>\n",
       "      <td>3334.628621</td>\n",
       "      <td>1439.421384</td>\n",
       "      <td>3383.168256</td>\n",
       "      <td>4628.975079</td>\n",
       "      <td>171.201947</td>\n",
       "      <td>7.960289</td>\n",
       "    </tr>\n",
       "    <tr>\n",
       "      <th>std</th>\n",
       "      <td>12.785297</td>\n",
       "      <td>30.492054</td>\n",
       "      <td>22711.183519</td>\n",
       "      <td>60980.583328</td>\n",
       "      <td>18.447931</td>\n",
       "      <td>0.458515</td>\n",
       "      <td>8291.221345</td>\n",
       "      <td>9475.357325</td>\n",
       "      <td>9623.078290</td>\n",
       "      <td>6292.384031</td>\n",
       "      <td>5962.887455</td>\n",
       "      <td>39.159276</td>\n",
       "      <td>1.863296</td>\n",
       "    </tr>\n",
       "    <tr>\n",
       "      <th>min</th>\n",
       "      <td>1.000000</td>\n",
       "      <td>1.000000</td>\n",
       "      <td>-4988.940000</td>\n",
       "      <td>34875.000000</td>\n",
       "      <td>-2.060000</td>\n",
       "      <td>2.472000</td>\n",
       "      <td>0.270000</td>\n",
       "      <td>-265.760000</td>\n",
       "      <td>-29.100000</td>\n",
       "      <td>0.220000</td>\n",
       "      <td>135.160000</td>\n",
       "      <td>126.064000</td>\n",
       "      <td>3.879000</td>\n",
       "    </tr>\n",
       "    <tr>\n",
       "      <th>25%</th>\n",
       "      <td>11.000000</td>\n",
       "      <td>18.000000</td>\n",
       "      <td>2079.650000</td>\n",
       "      <td>93638.000000</td>\n",
       "      <td>46.680000</td>\n",
       "      <td>2.933000</td>\n",
       "      <td>2240.270000</td>\n",
       "      <td>41.600000</td>\n",
       "      <td>5.080000</td>\n",
       "      <td>504.220000</td>\n",
       "      <td>1878.440000</td>\n",
       "      <td>132.022667</td>\n",
       "      <td>6.891000</td>\n",
       "    </tr>\n",
       "    <tr>\n",
       "      <th>50%</th>\n",
       "      <td>22.000000</td>\n",
       "      <td>37.000000</td>\n",
       "      <td>7612.030000</td>\n",
       "      <td>140167.000000</td>\n",
       "      <td>62.090000</td>\n",
       "      <td>3.452000</td>\n",
       "      <td>5347.450000</td>\n",
       "      <td>192.000000</td>\n",
       "      <td>24.600000</td>\n",
       "      <td>1481.310000</td>\n",
       "      <td>3359.450000</td>\n",
       "      <td>182.318780</td>\n",
       "      <td>7.866000</td>\n",
       "    </tr>\n",
       "    <tr>\n",
       "      <th>75%</th>\n",
       "      <td>33.000000</td>\n",
       "      <td>74.000000</td>\n",
       "      <td>20205.852500</td>\n",
       "      <td>202505.000000</td>\n",
       "      <td>74.280000</td>\n",
       "      <td>3.738000</td>\n",
       "      <td>9210.900000</td>\n",
       "      <td>1926.940000</td>\n",
       "      <td>103.990000</td>\n",
       "      <td>3595.040000</td>\n",
       "      <td>5563.800000</td>\n",
       "      <td>212.416993</td>\n",
       "      <td>8.572000</td>\n",
       "    </tr>\n",
       "    <tr>\n",
       "      <th>max</th>\n",
       "      <td>45.000000</td>\n",
       "      <td>99.000000</td>\n",
       "      <td>693099.360000</td>\n",
       "      <td>219622.000000</td>\n",
       "      <td>100.140000</td>\n",
       "      <td>4.468000</td>\n",
       "      <td>88646.760000</td>\n",
       "      <td>104519.540000</td>\n",
       "      <td>141630.610000</td>\n",
       "      <td>67474.850000</td>\n",
       "      <td>108519.280000</td>\n",
       "      <td>227.232807</td>\n",
       "      <td>14.313000</td>\n",
       "    </tr>\n",
       "  </tbody>\n",
       "</table>\n",
       "</div>"
      ],
      "text/plain": [
       "               Store           Dept   Weekly_Sales           Size  \\\n",
       "count  421570.000000  421570.000000  421570.000000  421570.000000   \n",
       "mean       22.200546      44.260317   15981.258123  136727.915739   \n",
       "std        12.785297      30.492054   22711.183519   60980.583328   \n",
       "min         1.000000       1.000000   -4988.940000   34875.000000   \n",
       "25%        11.000000      18.000000    2079.650000   93638.000000   \n",
       "50%        22.000000      37.000000    7612.030000  140167.000000   \n",
       "75%        33.000000      74.000000   20205.852500  202505.000000   \n",
       "max        45.000000      99.000000  693099.360000  219622.000000   \n",
       "\n",
       "         Temperature     Fuel_Price      MarkDown1      MarkDown2  \\\n",
       "count  421570.000000  421570.000000  150681.000000  111248.000000   \n",
       "mean       60.090059       3.361027    7246.420196    3334.628621   \n",
       "std        18.447931       0.458515    8291.221345    9475.357325   \n",
       "min        -2.060000       2.472000       0.270000    -265.760000   \n",
       "25%        46.680000       2.933000    2240.270000      41.600000   \n",
       "50%        62.090000       3.452000    5347.450000     192.000000   \n",
       "75%        74.280000       3.738000    9210.900000    1926.940000   \n",
       "max       100.140000       4.468000   88646.760000  104519.540000   \n",
       "\n",
       "           MarkDown3      MarkDown4      MarkDown5            CPI  \\\n",
       "count  137091.000000  134967.000000  151432.000000  421570.000000   \n",
       "mean     1439.421384    3383.168256    4628.975079     171.201947   \n",
       "std      9623.078290    6292.384031    5962.887455      39.159276   \n",
       "min       -29.100000       0.220000     135.160000     126.064000   \n",
       "25%         5.080000     504.220000    1878.440000     132.022667   \n",
       "50%        24.600000    1481.310000    3359.450000     182.318780   \n",
       "75%       103.990000    3595.040000    5563.800000     212.416993   \n",
       "max    141630.610000   67474.850000  108519.280000     227.232807   \n",
       "\n",
       "        Unemployment  \n",
       "count  421570.000000  \n",
       "mean        7.960289  \n",
       "std         1.863296  \n",
       "min         3.879000  \n",
       "25%         6.891000  \n",
       "50%         7.866000  \n",
       "75%         8.572000  \n",
       "max        14.313000  "
      ]
     },
     "execution_count": 32,
     "metadata": {},
     "output_type": "execute_result"
    }
   ],
   "source": [
    "df.describe()"
   ]
  },
  {
   "cell_type": "markdown",
   "metadata": {},
   "source": [
    "Great! Everything looks just like we left it as.  Now, we can begin cleaning the data. \n",
    "\n",
    "Before we jump right into data cleaning,. we'll want to consider our process first.  Answer the following questions below:\n",
    "\n",
    "What sorts of problems should we be checking for?  Are there any obvious issues that we'll need to deal with? What are some other issues that this dataset could contain that might not be immediately obvious?  \n",
    "\n",
    "Write your answer below this line:<br/>\n",
    "<i>We should be examining the dataframe for null values, strings disguised integers, columns that may have inappropriate data types, possible multicollinearity (likely later on) and removing unneccessary columns.  Obvious issues are the null values in the Markdown columns and the missing values in the Markdown columns.  Date is also set as an object and I think it should be changed to another data type.  Also, the repeating of certain variables associated with particular store numbers might cause issues later on: CPI, temperature, size and fuel price.</i>\n",
    "\n",
    " \n",
    "\n",
    "## Dealing with Oversized Datasets\n",
    "\n",
    "This dataset is quite large. Often, when starting out on a project, its a good idea to build the model on a subset of the data so that we're not bogged down by large runtimes. Let's investigate the dataset a bit to get a feel for if this is a good idea. \n",
    "\n",
    "In the cell below, check how many rows this dataset contains."
   ]
  },
  {
   "cell_type": "code",
   "execution_count": 33,
   "metadata": {},
   "outputs": [
    {
     "data": {
      "text/plain": [
       "(421570, 16)"
      ]
     },
     "execution_count": 33,
     "metadata": {},
     "output_type": "execute_result"
    }
   ],
   "source": [
    "df.shape"
   ]
  },
  {
   "cell_type": "markdown",
   "metadata": {},
   "source": [
    "This dataset contains `421570` rows! That's large enough that we should consider building our model on a subset of the data to increase our speed during the modeling step.  Modeling is an iterative process, and we'll likely have to fit out model multiple times as we tweak it--by subsetting our dataset, we'll protect ourselves from insane runtimes everytime we make a small change and need to rerun our model. Once we have a prototype built, we can always add all the extra data back in!\n",
    "\n",
    "### Subsetting our Dataset\n",
    "\n",
    "The typical method for subsetting our dataset is to just take a random sample of data.  This is an option for us.  However, when we inspect the columns of our dataset in a bit, we'll notice that we have 2 categorical columns with very high cardinality--`Store`, and `Dept`.  This provides us with an opportunity to reduce dimensionality while subsampling.  Instead of building a model on all the stores and departments in our dataset, we'll subset our data so that it only contains stores 1 through 10.  \n",
    "\n",
    "In the cell below, slice our dataset so that only rows with a `Store` value between 1 and 10 (inclusive) remain. "
   ]
  },
  {
   "cell_type": "code",
   "execution_count": 34,
   "metadata": {},
   "outputs": [],
   "source": [
    "df = df[df['Store']<=10]"
   ]
  },
  {
   "cell_type": "code",
   "execution_count": 35,
   "metadata": {},
   "outputs": [
    {
     "data": {
      "text/plain": [
       "97839"
      ]
     },
     "execution_count": 35,
     "metadata": {},
     "output_type": "execute_result"
    }
   ],
   "source": [
    "len(df)"
   ]
  },
  {
   "cell_type": "code",
   "execution_count": 36,
   "metadata": {},
   "outputs": [
    {
     "data": {
      "text/plain": [
       "(97839, 16)"
      ]
     },
     "execution_count": 36,
     "metadata": {},
     "output_type": "execute_result"
    }
   ],
   "source": [
    "df.shape"
   ]
  },
  {
   "cell_type": "code",
   "execution_count": 37,
   "metadata": {},
   "outputs": [
    {
     "data": {
      "text/html": [
       "<div>\n",
       "<style scoped>\n",
       "    .dataframe tbody tr th:only-of-type {\n",
       "        vertical-align: middle;\n",
       "    }\n",
       "\n",
       "    .dataframe tbody tr th {\n",
       "        vertical-align: top;\n",
       "    }\n",
       "\n",
       "    .dataframe thead th {\n",
       "        text-align: right;\n",
       "    }\n",
       "</style>\n",
       "<table border=\"1\" class=\"dataframe\">\n",
       "  <thead>\n",
       "    <tr style=\"text-align: right;\">\n",
       "      <th></th>\n",
       "      <th>Store</th>\n",
       "      <th>Dept</th>\n",
       "      <th>Date</th>\n",
       "      <th>Weekly_Sales</th>\n",
       "      <th>IsHoliday</th>\n",
       "      <th>Type</th>\n",
       "      <th>Size</th>\n",
       "      <th>Temperature</th>\n",
       "      <th>Fuel_Price</th>\n",
       "      <th>MarkDown1</th>\n",
       "      <th>MarkDown2</th>\n",
       "      <th>MarkDown3</th>\n",
       "      <th>MarkDown4</th>\n",
       "      <th>MarkDown5</th>\n",
       "      <th>CPI</th>\n",
       "      <th>Unemployment</th>\n",
       "    </tr>\n",
       "  </thead>\n",
       "  <tbody>\n",
       "    <tr>\n",
       "      <th>97834</th>\n",
       "      <td>10</td>\n",
       "      <td>94</td>\n",
       "      <td>2012-10-26</td>\n",
       "      <td>795.76</td>\n",
       "      <td>False</td>\n",
       "      <td>B</td>\n",
       "      <td>126512</td>\n",
       "      <td>70.5</td>\n",
       "      <td>4.301</td>\n",
       "      <td>9657.93</td>\n",
       "      <td>63.3</td>\n",
       "      <td>100.0</td>\n",
       "      <td>1925.87</td>\n",
       "      <td>834.57</td>\n",
       "      <td>131.193097</td>\n",
       "      <td>6.943</td>\n",
       "    </tr>\n",
       "    <tr>\n",
       "      <th>97835</th>\n",
       "      <td>10</td>\n",
       "      <td>95</td>\n",
       "      <td>2012-10-26</td>\n",
       "      <td>64643.03</td>\n",
       "      <td>False</td>\n",
       "      <td>B</td>\n",
       "      <td>126512</td>\n",
       "      <td>70.5</td>\n",
       "      <td>4.301</td>\n",
       "      <td>9657.93</td>\n",
       "      <td>63.3</td>\n",
       "      <td>100.0</td>\n",
       "      <td>1925.87</td>\n",
       "      <td>834.57</td>\n",
       "      <td>131.193097</td>\n",
       "      <td>6.943</td>\n",
       "    </tr>\n",
       "    <tr>\n",
       "      <th>97836</th>\n",
       "      <td>10</td>\n",
       "      <td>96</td>\n",
       "      <td>2012-10-26</td>\n",
       "      <td>13966.23</td>\n",
       "      <td>False</td>\n",
       "      <td>B</td>\n",
       "      <td>126512</td>\n",
       "      <td>70.5</td>\n",
       "      <td>4.301</td>\n",
       "      <td>9657.93</td>\n",
       "      <td>63.3</td>\n",
       "      <td>100.0</td>\n",
       "      <td>1925.87</td>\n",
       "      <td>834.57</td>\n",
       "      <td>131.193097</td>\n",
       "      <td>6.943</td>\n",
       "    </tr>\n",
       "    <tr>\n",
       "      <th>97837</th>\n",
       "      <td>10</td>\n",
       "      <td>97</td>\n",
       "      <td>2012-10-26</td>\n",
       "      <td>4785.28</td>\n",
       "      <td>False</td>\n",
       "      <td>B</td>\n",
       "      <td>126512</td>\n",
       "      <td>70.5</td>\n",
       "      <td>4.301</td>\n",
       "      <td>9657.93</td>\n",
       "      <td>63.3</td>\n",
       "      <td>100.0</td>\n",
       "      <td>1925.87</td>\n",
       "      <td>834.57</td>\n",
       "      <td>131.193097</td>\n",
       "      <td>6.943</td>\n",
       "    </tr>\n",
       "    <tr>\n",
       "      <th>97838</th>\n",
       "      <td>10</td>\n",
       "      <td>98</td>\n",
       "      <td>2012-10-26</td>\n",
       "      <td>560.02</td>\n",
       "      <td>False</td>\n",
       "      <td>B</td>\n",
       "      <td>126512</td>\n",
       "      <td>70.5</td>\n",
       "      <td>4.301</td>\n",
       "      <td>9657.93</td>\n",
       "      <td>63.3</td>\n",
       "      <td>100.0</td>\n",
       "      <td>1925.87</td>\n",
       "      <td>834.57</td>\n",
       "      <td>131.193097</td>\n",
       "      <td>6.943</td>\n",
       "    </tr>\n",
       "  </tbody>\n",
       "</table>\n",
       "</div>"
      ],
      "text/plain": [
       "       Store  Dept        Date  Weekly_Sales  IsHoliday Type    Size  \\\n",
       "97834     10    94  2012-10-26        795.76      False    B  126512   \n",
       "97835     10    95  2012-10-26      64643.03      False    B  126512   \n",
       "97836     10    96  2012-10-26      13966.23      False    B  126512   \n",
       "97837     10    97  2012-10-26       4785.28      False    B  126512   \n",
       "97838     10    98  2012-10-26        560.02      False    B  126512   \n",
       "\n",
       "       Temperature  Fuel_Price  MarkDown1  MarkDown2  MarkDown3  MarkDown4  \\\n",
       "97834         70.5       4.301    9657.93       63.3      100.0    1925.87   \n",
       "97835         70.5       4.301    9657.93       63.3      100.0    1925.87   \n",
       "97836         70.5       4.301    9657.93       63.3      100.0    1925.87   \n",
       "97837         70.5       4.301    9657.93       63.3      100.0    1925.87   \n",
       "97838         70.5       4.301    9657.93       63.3      100.0    1925.87   \n",
       "\n",
       "       MarkDown5         CPI  Unemployment  \n",
       "97834     834.57  131.193097         6.943  \n",
       "97835     834.57  131.193097         6.943  \n",
       "97836     834.57  131.193097         6.943  \n",
       "97837     834.57  131.193097         6.943  \n",
       "97838     834.57  131.193097         6.943  "
      ]
     },
     "execution_count": 37,
     "metadata": {},
     "output_type": "execute_result"
    }
   ],
   "source": [
    "df.tail()"
   ]
  },
  {
   "cell_type": "markdown",
   "metadata": {},
   "source": [
    "## Starting our Data Cleaning\n",
    "\n",
    "We'll begin by dealing with the most obvious issues--data types and null values. \n",
    "\n",
    "First, we'll check the different types of encoding that each column has, and then we'll check for null values and examine our options for dealing with them.\n",
    "\n",
    "### Checking Data Types\n",
    "\n",
    "In the cell below, use the appropriate method to check the data type of each column. "
   ]
  },
  {
   "cell_type": "code",
   "execution_count": 38,
   "metadata": {},
   "outputs": [
    {
     "name": "stdout",
     "output_type": "stream",
     "text": [
      "<class 'pandas.core.frame.DataFrame'>\n",
      "Int64Index: 97839 entries, 0 to 97838\n",
      "Data columns (total 16 columns):\n",
      "Store           97839 non-null int64\n",
      "Dept            97839 non-null int64\n",
      "Date            97839 non-null object\n",
      "Weekly_Sales    97839 non-null float64\n",
      "IsHoliday       97839 non-null bool\n",
      "Type            97839 non-null object\n",
      "Size            97839 non-null int64\n",
      "Temperature     97839 non-null float64\n",
      "Fuel_Price      97839 non-null float64\n",
      "MarkDown1       35013 non-null float64\n",
      "MarkDown2       27232 non-null float64\n",
      "MarkDown3       32513 non-null float64\n",
      "MarkDown4       34485 non-null float64\n",
      "MarkDown5       35013 non-null float64\n",
      "CPI             97839 non-null float64\n",
      "Unemployment    97839 non-null float64\n",
      "dtypes: bool(1), float64(10), int64(3), object(2)\n",
      "memory usage: 12.0+ MB\n"
     ]
    }
   ],
   "source": [
    "df.info()"
   ]
  },
  {
   "cell_type": "markdown",
   "metadata": {},
   "source": [
    "Let's investigate the unique values inside of the `Store` and `Dept` columns.\n",
    "\n",
    "In the cells below, use the appropriate DataFrame method to display all the unique values in the `Store` column, and in the `Dept` column. "
   ]
  },
  {
   "cell_type": "code",
   "execution_count": 40,
   "metadata": {},
   "outputs": [
    {
     "data": {
      "text/plain": [
       "array([ 1,  2,  3,  4,  5,  6,  7,  8,  9, 10], dtype=int64)"
      ]
     },
     "execution_count": 40,
     "metadata": {},
     "output_type": "execute_result"
    }
   ],
   "source": [
    "df['Store'].unique()"
   ]
  },
  {
   "cell_type": "code",
   "execution_count": 41,
   "metadata": {},
   "outputs": [
    {
     "data": {
      "text/plain": [
       "array([ 1,  2,  3,  4,  5,  6,  7,  8,  9, 10, 11, 12, 13, 14, 16, 17, 18,\n",
       "       19, 20, 21, 22, 23, 24, 25, 26, 27, 28, 29, 30, 31, 32, 33, 34, 35,\n",
       "       36, 37, 38, 40, 41, 42, 44, 45, 46, 47, 48, 49, 51, 52, 54, 55, 56,\n",
       "       58, 59, 60, 67, 71, 72, 74, 79, 80, 81, 82, 83, 85, 87, 90, 91, 92,\n",
       "       93, 94, 95, 97, 98, 78, 96, 99, 77, 39, 50], dtype=int64)"
      ]
     },
     "execution_count": 41,
     "metadata": {},
     "output_type": "execute_result"
    }
   ],
   "source": [
    "df['Dept'].unique()"
   ]
  },
  {
   "cell_type": "code",
   "execution_count": 44,
   "metadata": {},
   "outputs": [
    {
     "data": {
      "text/plain": [
       "79"
      ]
     },
     "execution_count": 44,
     "metadata": {},
     "output_type": "execute_result"
    }
   ],
   "source": [
    "len(df['Dept'].unique())"
   ]
  },
  {
   "cell_type": "code",
   "execution_count": 49,
   "metadata": {},
   "outputs": [
    {
     "data": {
      "text/plain": [
       "array(['A', 'B'], dtype=object)"
      ]
     },
     "execution_count": 49,
     "metadata": {},
     "output_type": "execute_result"
    }
   ],
   "source": [
    "df['Type'].unique()"
   ]
  },
  {
   "cell_type": "markdown",
   "metadata": {},
   "source": [
    "### Categorical Data Stored as Integers\n",
    "\n",
    "A common issue we usually check for at this stage is numeric columns that have accidentally been encoded as strings.  However, in this dataset, we'll notice that although the `Store` and `Dept` columns are both contain integer values, we can intuit that these are meant to be read as categorical data.  We'll want to convert these columns to strings, so that they will be one-hot encoded when we get around to dealing with our categorical columns.  \n",
    "\n",
    "You may be wondering why we don't just leave it as is.  This is because we would accidentally be creating numeric relationships between the different stores that shouldn't be there.  If left with numeric encoding, our model would interpret Store 2 as twice Store 1, but half of Store 4.  These sorts of mathematical relationships don't make sense--we'd much rather these be treated as categories, as the dataset intends.  \n",
    "\n",
    "In the cell below, cast the `Store` and `Dept` columns to strings. "
   ]
  },
  {
   "cell_type": "code",
   "execution_count": 46,
   "metadata": {},
   "outputs": [],
   "source": [
    "df['Store'] = df['Store'].astype(str)"
   ]
  },
  {
   "cell_type": "code",
   "execution_count": 47,
   "metadata": {},
   "outputs": [],
   "source": [
    "df['Dept'] = df['Dept'].astype(str)"
   ]
  },
  {
   "cell_type": "code",
   "execution_count": 48,
   "metadata": {},
   "outputs": [
    {
     "name": "stdout",
     "output_type": "stream",
     "text": [
      "<class 'pandas.core.frame.DataFrame'>\n",
      "Int64Index: 97839 entries, 0 to 97838\n",
      "Data columns (total 16 columns):\n",
      "Store           97839 non-null object\n",
      "Dept            97839 non-null object\n",
      "Date            97839 non-null object\n",
      "Weekly_Sales    97839 non-null float64\n",
      "IsHoliday       97839 non-null bool\n",
      "Type            97839 non-null object\n",
      "Size            97839 non-null int64\n",
      "Temperature     97839 non-null float64\n",
      "Fuel_Price      97839 non-null float64\n",
      "MarkDown1       35013 non-null float64\n",
      "MarkDown2       27232 non-null float64\n",
      "MarkDown3       32513 non-null float64\n",
      "MarkDown4       34485 non-null float64\n",
      "MarkDown5       35013 non-null float64\n",
      "CPI             97839 non-null float64\n",
      "Unemployment    97839 non-null float64\n",
      "dtypes: bool(1), float64(10), int64(1), object(4)\n",
      "memory usage: 12.0+ MB\n"
     ]
    }
   ],
   "source": [
    "df.info()"
   ]
  },
  {
   "cell_type": "markdown",
   "metadata": {},
   "source": [
    "### Numeric Data Stored as Strings\n",
    "\n",
    "It looks like we have two columns that are encoded as strings (remember, pandas denotes string columns as `object`)--`Date` and `Type`.\n",
    "\n",
    "We don't need to worry about `Date`--those should obviously be encoded as strings. Let's quickly check out the `Type` column just to ensure that it doesn't contain numeric data.\n",
    "\n",
    "In the cell below, get the unique values contained within the `Type` column. "
   ]
  },
  {
   "cell_type": "code",
   "execution_count": 50,
   "metadata": {},
   "outputs": [
    {
     "data": {
      "text/plain": [
       "array(['A', 'B'], dtype=object)"
      ]
     },
     "execution_count": 50,
     "metadata": {},
     "output_type": "execute_result"
    }
   ],
   "source": [
    "df['Type'].unique()"
   ]
  },
  {
   "cell_type": "markdown",
   "metadata": {},
   "source": [
    "Great job--the `Type` column is clearly a categorical column, and should currently be stored as a string.  Once we've dealt with null values, we'll deal with this and other categorical columns by one-hot encoding them. \n",
    "\n",
    "Let's double check the column encodings one more time to make sure that everything we did above worked correctly. "
   ]
  },
  {
   "cell_type": "code",
   "execution_count": 51,
   "metadata": {},
   "outputs": [
    {
     "name": "stdout",
     "output_type": "stream",
     "text": [
      "<class 'pandas.core.frame.DataFrame'>\n",
      "Int64Index: 97839 entries, 0 to 97838\n",
      "Data columns (total 16 columns):\n",
      "Store           97839 non-null object\n",
      "Dept            97839 non-null object\n",
      "Date            97839 non-null object\n",
      "Weekly_Sales    97839 non-null float64\n",
      "IsHoliday       97839 non-null bool\n",
      "Type            97839 non-null object\n",
      "Size            97839 non-null int64\n",
      "Temperature     97839 non-null float64\n",
      "Fuel_Price      97839 non-null float64\n",
      "MarkDown1       35013 non-null float64\n",
      "MarkDown2       27232 non-null float64\n",
      "MarkDown3       32513 non-null float64\n",
      "MarkDown4       34485 non-null float64\n",
      "MarkDown5       35013 non-null float64\n",
      "CPI             97839 non-null float64\n",
      "Unemployment    97839 non-null float64\n",
      "dtypes: bool(1), float64(10), int64(1), object(4)\n",
      "memory usage: 12.0+ MB\n"
     ]
    }
   ],
   "source": [
    "df.info()"
   ]
  },
  {
   "cell_type": "markdown",
   "metadata": {},
   "source": [
    "### Detecting and Dealing With Null Values\n",
    "\n",
    " Next, we'll need to check for null values. How we deal with the null values will be determined by the columns containing them, and how many null values exist in each.  \n",
    " \n",
    " In the cell below, use the appropriate pandas functionality to get a count of how many null values exist in each column in our DataFrame. "
   ]
  },
  {
   "cell_type": "code",
   "execution_count": 52,
   "metadata": {},
   "outputs": [
    {
     "data": {
      "text/plain": [
       "Store               0\n",
       "Dept                0\n",
       "Date                0\n",
       "Weekly_Sales        0\n",
       "IsHoliday           0\n",
       "Type                0\n",
       "Size                0\n",
       "Temperature         0\n",
       "Fuel_Price          0\n",
       "MarkDown1       62826\n",
       "MarkDown2       70607\n",
       "MarkDown3       65326\n",
       "MarkDown4       63354\n",
       "MarkDown5       62826\n",
       "CPI                 0\n",
       "Unemployment        0\n",
       "dtype: int64"
      ]
     },
     "execution_count": 52,
     "metadata": {},
     "output_type": "execute_result"
    }
   ],
   "source": [
    "df.isna().sum()"
   ]
  },
  {
   "cell_type": "markdown",
   "metadata": {},
   "source": [
    "**_QUESTION:_** Interpret the output above.  Do we know enough to have a strategy for dealing with these null values yet? Is dropping the rows a valid solution?  How about dropping the columns?  Can we replace them with interpolation, treat them as a categorical value, or deal with them through binning?  \n",
    "\n",
    "Write your answer below this line:\n",
    "<i>We don't know enough yet to create a strategy about these null values.  Being in the range of 60k - 70k rows per column on an overall base of 400k columns these null values can't be dropped without further investigation as that could significantly impact analysis results since they could represent a majority of rows of this data set.  Dropping rows or columns is not a valid solution.  I think we will replace with interpolation.  Treating them as a categorical value is a possibility but does not feel correct.  Binning is likely not an answer either. </i>\n",
    "\n",
    "\n",
    "Let's investigate these columns further.  In the cell below, get the top 20 value counts contained within `MarkDown3`."
   ]
  },
  {
   "cell_type": "code",
   "execution_count": 59,
   "metadata": {},
   "outputs": [
    {
     "data": {
      "text/plain": [
       "3.00     403\n",
       "1.00     331\n",
       "6.00     277\n",
       "1.65     217\n",
       "2.97     208\n",
       "2.00     197\n",
       "2.02     197\n",
       "0.55     193\n",
       "10.80    145\n",
       "8.11     145\n",
       "24.60    144\n",
       "4.20     141\n",
       "4.26     140\n",
       "6.50     140\n",
       "3.20     137\n",
       "0.22     136\n",
       "1.88     136\n",
       "6.01     135\n",
       "17.36    134\n",
       "0.25     134\n",
       "Name: MarkDown3, dtype: int64"
      ]
     },
     "execution_count": 59,
     "metadata": {},
     "output_type": "execute_result"
    }
   ],
   "source": [
    "df['MarkDown3'].value_counts().nlargest(20)"
   ]
  },
  {
   "cell_type": "markdown",
   "metadata": {},
   "source": [
    "Now, let's get the descriptive statistics for each of the markdown columns. We want to see where the minimum and maximum values lie.  "
   ]
  },
  {
   "cell_type": "code",
   "execution_count": 68,
   "metadata": {},
   "outputs": [
    {
     "data": {
      "text/html": [
       "<div>\n",
       "<style scoped>\n",
       "    .dataframe tbody tr th:only-of-type {\n",
       "        vertical-align: middle;\n",
       "    }\n",
       "\n",
       "    .dataframe tbody tr th {\n",
       "        vertical-align: top;\n",
       "    }\n",
       "\n",
       "    .dataframe thead th {\n",
       "        text-align: right;\n",
       "    }\n",
       "</style>\n",
       "<table border=\"1\" class=\"dataframe\">\n",
       "  <thead>\n",
       "    <tr style=\"text-align: right;\">\n",
       "      <th></th>\n",
       "      <th>MarkDown1</th>\n",
       "      <th>MarkDown2</th>\n",
       "      <th>MarkDown3</th>\n",
       "      <th>MarkDown4</th>\n",
       "      <th>MarkDown5</th>\n",
       "    </tr>\n",
       "  </thead>\n",
       "  <tbody>\n",
       "    <tr>\n",
       "      <th>count</th>\n",
       "      <td>35013.000000</td>\n",
       "      <td>27232.000000</td>\n",
       "      <td>32513.000000</td>\n",
       "      <td>34485.000000</td>\n",
       "      <td>35013.000000</td>\n",
       "    </tr>\n",
       "    <tr>\n",
       "      <th>mean</th>\n",
       "      <td>7048.166982</td>\n",
       "      <td>3210.994407</td>\n",
       "      <td>1553.120097</td>\n",
       "      <td>2934.328386</td>\n",
       "      <td>4706.398300</td>\n",
       "    </tr>\n",
       "    <tr>\n",
       "      <th>std</th>\n",
       "      <td>7656.783543</td>\n",
       "      <td>10683.244951</td>\n",
       "      <td>10595.395278</td>\n",
       "      <td>5199.795541</td>\n",
       "      <td>5347.922707</td>\n",
       "    </tr>\n",
       "    <tr>\n",
       "      <th>min</th>\n",
       "      <td>35.940000</td>\n",
       "      <td>-10.980000</td>\n",
       "      <td>0.010000</td>\n",
       "      <td>4.000000</td>\n",
       "      <td>135.160000</td>\n",
       "    </tr>\n",
       "    <tr>\n",
       "      <th>25%</th>\n",
       "      <td>2639.050000</td>\n",
       "      <td>24.030000</td>\n",
       "      <td>4.530000</td>\n",
       "      <td>426.510000</td>\n",
       "      <td>2007.500000</td>\n",
       "    </tr>\n",
       "    <tr>\n",
       "      <th>50%</th>\n",
       "      <td>5126.540000</td>\n",
       "      <td>148.950000</td>\n",
       "      <td>21.120000</td>\n",
       "      <td>1183.640000</td>\n",
       "      <td>3592.820000</td>\n",
       "    </tr>\n",
       "    <tr>\n",
       "      <th>75%</th>\n",
       "      <td>8813.810000</td>\n",
       "      <td>1555.570000</td>\n",
       "      <td>96.350000</td>\n",
       "      <td>3463.030000</td>\n",
       "      <td>5630.400000</td>\n",
       "    </tr>\n",
       "    <tr>\n",
       "      <th>max</th>\n",
       "      <td>75149.790000</td>\n",
       "      <td>104519.540000</td>\n",
       "      <td>141630.610000</td>\n",
       "      <td>48159.860000</td>\n",
       "      <td>58068.140000</td>\n",
       "    </tr>\n",
       "  </tbody>\n",
       "</table>\n",
       "</div>"
      ],
      "text/plain": [
       "          MarkDown1      MarkDown2      MarkDown3     MarkDown4     MarkDown5\n",
       "count  35013.000000   27232.000000   32513.000000  34485.000000  35013.000000\n",
       "mean    7048.166982    3210.994407    1553.120097   2934.328386   4706.398300\n",
       "std     7656.783543   10683.244951   10595.395278   5199.795541   5347.922707\n",
       "min       35.940000     -10.980000       0.010000      4.000000    135.160000\n",
       "25%     2639.050000      24.030000       4.530000    426.510000   2007.500000\n",
       "50%     5126.540000     148.950000      21.120000   1183.640000   3592.820000\n",
       "75%     8813.810000    1555.570000      96.350000   3463.030000   5630.400000\n",
       "max    75149.790000  104519.540000  141630.610000  48159.860000  58068.140000"
      ]
     },
     "execution_count": 68,
     "metadata": {},
     "output_type": "execute_result"
    }
   ],
   "source": [
    "MD = df[['MarkDown1', 'MarkDown2', 'MarkDown3', 'MarkDown4', 'MarkDown5']]\n",
    "MD.describe()"
   ]
  },
  {
   "cell_type": "code",
   "execution_count": 70,
   "metadata": {},
   "outputs": [
    {
     "data": {
      "text/plain": [
       "(97839, 16)"
      ]
     },
     "execution_count": 70,
     "metadata": {},
     "output_type": "execute_result"
    }
   ],
   "source": [
    "df.shape"
   ]
  },
  {
   "cell_type": "markdown",
   "metadata": {},
   "source": [
    "Okay--let's examine what we know about these columns, and come up with a solution for dealing with these null values. \n",
    "\n",
    "* The data contained within each column are continuously-valued floats. \n",
    "* The range is quite large, with the smallest value being around 0 or even negative in some columns, and the max being greater than 100,000.\n",
    "* There is extremely high variance in each, with the standard deviation being larger than the mean in all 5 columns. \n",
    "\n",
    "\n",
    "### Dealing With Null Values Through Binning\n",
    "\n",
    "This suggests that our best bet is to bin the columns.  The hard part is figuring out the right amount of bins to use.  Too many, and we subject ourselves to the curse of dimensionality.  Too few, and we lose information from the columns that could be important. \n",
    "\n",
    "For now, let's start with with 5 bins of equal size. \n",
    "\n",
    "In the cell below: \n",
    "\n",
    "* Create a binned version of each `MarkDown` column and add them to our DataFrame.  \n",
    "* When calling `pd.cut()`, pass in the appropriate column as the object to be binned, the number of bins we want, `5`, and set the `labels` parameter to `bins`, so that we have clearly labeled names for each bin. \n",
    "\n",
    "For more information on how to bin these columns using pd.cut, see the [pandas documentation for this method.](https://pandas.pydata.org/pandas-docs/version/0.23.4/generated/pandas.cut.html)"
   ]
  },
  {
   "cell_type": "code",
   "execution_count": 71,
   "metadata": {},
   "outputs": [],
   "source": [
    "bins = ['0-20%', '21-40%', '41-60%', '61-80%', '81-100%']\n",
    "\n",
    "for i in range (1, 6):\n",
    "    df[\"binned_markdown_\" + str(i)] = pd.cut(df['MarkDown' + str(i)],5,labels = bins)"
   ]
  },
  {
   "cell_type": "code",
   "execution_count": 72,
   "metadata": {},
   "outputs": [
    {
     "data": {
      "text/html": [
       "<div>\n",
       "<style scoped>\n",
       "    .dataframe tbody tr th:only-of-type {\n",
       "        vertical-align: middle;\n",
       "    }\n",
       "\n",
       "    .dataframe tbody tr th {\n",
       "        vertical-align: top;\n",
       "    }\n",
       "\n",
       "    .dataframe thead th {\n",
       "        text-align: right;\n",
       "    }\n",
       "</style>\n",
       "<table border=\"1\" class=\"dataframe\">\n",
       "  <thead>\n",
       "    <tr style=\"text-align: right;\">\n",
       "      <th></th>\n",
       "      <th>Weekly_Sales</th>\n",
       "      <th>Size</th>\n",
       "      <th>Temperature</th>\n",
       "      <th>Fuel_Price</th>\n",
       "      <th>MarkDown1</th>\n",
       "      <th>MarkDown2</th>\n",
       "      <th>MarkDown3</th>\n",
       "      <th>MarkDown4</th>\n",
       "      <th>MarkDown5</th>\n",
       "      <th>CPI</th>\n",
       "      <th>Unemployment</th>\n",
       "    </tr>\n",
       "  </thead>\n",
       "  <tbody>\n",
       "    <tr>\n",
       "      <th>count</th>\n",
       "      <td>97839.000000</td>\n",
       "      <td>97839.000000</td>\n",
       "      <td>97839.000000</td>\n",
       "      <td>97839.000000</td>\n",
       "      <td>35013.000000</td>\n",
       "      <td>27232.000000</td>\n",
       "      <td>32513.000000</td>\n",
       "      <td>34485.000000</td>\n",
       "      <td>35013.000000</td>\n",
       "      <td>97839.000000</td>\n",
       "      <td>97839.000000</td>\n",
       "    </tr>\n",
       "    <tr>\n",
       "      <th>mean</th>\n",
       "      <td>17223.235591</td>\n",
       "      <td>133903.014759</td>\n",
       "      <td>65.020022</td>\n",
       "      <td>3.259009</td>\n",
       "      <td>7048.166982</td>\n",
       "      <td>3210.994407</td>\n",
       "      <td>1553.120097</td>\n",
       "      <td>2934.328386</td>\n",
       "      <td>4706.398300</td>\n",
       "      <td>196.572209</td>\n",
       "      <td>7.059937</td>\n",
       "    </tr>\n",
       "    <tr>\n",
       "      <th>std</th>\n",
       "      <td>25288.572553</td>\n",
       "      <td>61431.806052</td>\n",
       "      <td>17.453067</td>\n",
       "      <td>0.440323</td>\n",
       "      <td>7656.783543</td>\n",
       "      <td>10683.244951</td>\n",
       "      <td>10595.395278</td>\n",
       "      <td>5199.795541</td>\n",
       "      <td>5347.922707</td>\n",
       "      <td>35.996312</td>\n",
       "      <td>1.145500</td>\n",
       "    </tr>\n",
       "    <tr>\n",
       "      <th>min</th>\n",
       "      <td>-1098.000000</td>\n",
       "      <td>34875.000000</td>\n",
       "      <td>-2.060000</td>\n",
       "      <td>2.514000</td>\n",
       "      <td>35.940000</td>\n",
       "      <td>-10.980000</td>\n",
       "      <td>0.010000</td>\n",
       "      <td>4.000000</td>\n",
       "      <td>135.160000</td>\n",
       "      <td>126.064000</td>\n",
       "      <td>3.879000</td>\n",
       "    </tr>\n",
       "    <tr>\n",
       "      <th>25%</th>\n",
       "      <td>2336.485000</td>\n",
       "      <td>70713.000000</td>\n",
       "      <td>52.650000</td>\n",
       "      <td>2.795000</td>\n",
       "      <td>2639.050000</td>\n",
       "      <td>24.030000</td>\n",
       "      <td>4.530000</td>\n",
       "      <td>426.510000</td>\n",
       "      <td>2007.500000</td>\n",
       "      <td>192.011600</td>\n",
       "      <td>6.315000</td>\n",
       "    </tr>\n",
       "    <tr>\n",
       "      <th>50%</th>\n",
       "      <td>7658.280000</td>\n",
       "      <td>151315.000000</td>\n",
       "      <td>67.360000</td>\n",
       "      <td>3.311000</td>\n",
       "      <td>5126.540000</td>\n",
       "      <td>148.950000</td>\n",
       "      <td>21.120000</td>\n",
       "      <td>1183.640000</td>\n",
       "      <td>3592.820000</td>\n",
       "      <td>214.553123</td>\n",
       "      <td>7.007000</td>\n",
       "    </tr>\n",
       "    <tr>\n",
       "      <th>75%</th>\n",
       "      <td>20851.275000</td>\n",
       "      <td>202307.000000</td>\n",
       "      <td>80.170000</td>\n",
       "      <td>3.622000</td>\n",
       "      <td>8813.810000</td>\n",
       "      <td>1555.570000</td>\n",
       "      <td>96.350000</td>\n",
       "      <td>3463.030000</td>\n",
       "      <td>5630.400000</td>\n",
       "      <td>219.415986</td>\n",
       "      <td>7.872000</td>\n",
       "    </tr>\n",
       "    <tr>\n",
       "      <th>max</th>\n",
       "      <td>693099.360000</td>\n",
       "      <td>205863.000000</td>\n",
       "      <td>95.360000</td>\n",
       "      <td>4.468000</td>\n",
       "      <td>75149.790000</td>\n",
       "      <td>104519.540000</td>\n",
       "      <td>141630.610000</td>\n",
       "      <td>48159.860000</td>\n",
       "      <td>58068.140000</td>\n",
       "      <td>227.232807</td>\n",
       "      <td>9.765000</td>\n",
       "    </tr>\n",
       "  </tbody>\n",
       "</table>\n",
       "</div>"
      ],
      "text/plain": [
       "        Weekly_Sales           Size   Temperature    Fuel_Price     MarkDown1  \\\n",
       "count   97839.000000   97839.000000  97839.000000  97839.000000  35013.000000   \n",
       "mean    17223.235591  133903.014759     65.020022      3.259009   7048.166982   \n",
       "std     25288.572553   61431.806052     17.453067      0.440323   7656.783543   \n",
       "min     -1098.000000   34875.000000     -2.060000      2.514000     35.940000   \n",
       "25%      2336.485000   70713.000000     52.650000      2.795000   2639.050000   \n",
       "50%      7658.280000  151315.000000     67.360000      3.311000   5126.540000   \n",
       "75%     20851.275000  202307.000000     80.170000      3.622000   8813.810000   \n",
       "max    693099.360000  205863.000000     95.360000      4.468000  75149.790000   \n",
       "\n",
       "           MarkDown2      MarkDown3     MarkDown4     MarkDown5           CPI  \\\n",
       "count   27232.000000   32513.000000  34485.000000  35013.000000  97839.000000   \n",
       "mean     3210.994407    1553.120097   2934.328386   4706.398300    196.572209   \n",
       "std     10683.244951   10595.395278   5199.795541   5347.922707     35.996312   \n",
       "min       -10.980000       0.010000      4.000000    135.160000    126.064000   \n",
       "25%        24.030000       4.530000    426.510000   2007.500000    192.011600   \n",
       "50%       148.950000      21.120000   1183.640000   3592.820000    214.553123   \n",
       "75%      1555.570000      96.350000   3463.030000   5630.400000    219.415986   \n",
       "max    104519.540000  141630.610000  48159.860000  58068.140000    227.232807   \n",
       "\n",
       "       Unemployment  \n",
       "count  97839.000000  \n",
       "mean       7.059937  \n",
       "std        1.145500  \n",
       "min        3.879000  \n",
       "25%        6.315000  \n",
       "50%        7.007000  \n",
       "75%        7.872000  \n",
       "max        9.765000  "
      ]
     },
     "execution_count": 72,
     "metadata": {},
     "output_type": "execute_result"
    }
   ],
   "source": [
    "df.describe()"
   ]
  },
  {
   "cell_type": "markdown",
   "metadata": {},
   "source": [
    "Great! Now, let's check the `.dtypes` attribute of our DataFrame to see that these new categorical columns have been created. "
   ]
  },
  {
   "cell_type": "code",
   "execution_count": 74,
   "metadata": {},
   "outputs": [
    {
     "data": {
      "text/plain": [
       "Store                  object\n",
       "Dept                   object\n",
       "Date                   object\n",
       "Weekly_Sales          float64\n",
       "IsHoliday                bool\n",
       "Type                   object\n",
       "Size                    int64\n",
       "Temperature           float64\n",
       "Fuel_Price            float64\n",
       "MarkDown1             float64\n",
       "MarkDown2             float64\n",
       "MarkDown3             float64\n",
       "MarkDown4             float64\n",
       "MarkDown5             float64\n",
       "CPI                   float64\n",
       "Unemployment          float64\n",
       "binned_markdown_1    category\n",
       "binned_markdown_2    category\n",
       "binned_markdown_3    category\n",
       "binned_markdown_4    category\n",
       "binned_markdown_5    category\n",
       "dtype: object"
      ]
     },
     "execution_count": 74,
     "metadata": {},
     "output_type": "execute_result"
    }
   ],
   "source": [
    "df.dtypes"
   ]
  },
  {
   "cell_type": "markdown",
   "metadata": {},
   "source": [
    "They exist! However, they still contain null values.  We need to replace all null values with a string that will represent all missing values.  This is easy enough for us--we can just use the `replace()` method or the `fillna()` method on each column and replace `NaN` with `\"NaN\"`. \n",
    "\n",
    "In the cell below, replace all missing values inside our `binned_markdown` columns with the string `\"NaN\"`.\n",
    "\n",
    "**_NOTE:_** If you're unsure of how to do this, check the [pandas documentation for replace](https://pandas.pydata.org/pandas-docs/stable/generated/pandas.DataFrame.replace.html)."
   ]
  },
  {
   "cell_type": "code",
   "execution_count": 126,
   "metadata": {},
   "outputs": [],
   "source": [
    "for i in range(1,6):\n",
    "    df['binned_markdown_' + str(i)].replace(np.NaN, 'Nan', inplace=True)"
   ]
  },
  {
   "cell_type": "markdown",
   "metadata": {},
   "source": [
    "Great! Now, let's check if those columns still contain null values. \n",
    "\n",
    "In the cell below, display the number of null values contained within each column of our DataFrame."
   ]
  },
  {
   "cell_type": "code",
   "execution_count": 107,
   "metadata": {},
   "outputs": [
    {
     "data": {
      "text/plain": [
       "Store                    0\n",
       "Dept                     0\n",
       "Date                     0\n",
       "Weekly_Sales             0\n",
       "IsHoliday                0\n",
       "Type                     0\n",
       "Size                     0\n",
       "Temperature              0\n",
       "Fuel_Price               0\n",
       "MarkDown1            62826\n",
       "MarkDown2            70607\n",
       "MarkDown3            65326\n",
       "MarkDown4            63354\n",
       "MarkDown5            62826\n",
       "CPI                      0\n",
       "Unemployment             0\n",
       "binned_markdown_1        0\n",
       "binned_markdown_2        0\n",
       "binned_markdown_3        0\n",
       "binned_markdown_4        0\n",
       "binned_markdown_5        0\n",
       "dtype: int64"
      ]
     },
     "execution_count": 107,
     "metadata": {},
     "output_type": "execute_result"
    }
   ],
   "source": [
    "df.isna().sum()"
   ]
  },
  {
   "cell_type": "markdown",
   "metadata": {},
   "source": [
    "Excellent! We've now dealt with all the null values in our dataset through **_Coarse Classification_** by binning our data and treating null values as a distinct category. All that's left to do is to drop our original `MarkDown` columns from the DataFrame. \n",
    "\n",
    "Note that in this step, we'll also drop the `Date` column, because we are going to build a generalized model and will not be making use of any time series data. \n",
    "\n",
    "In the cell below:\n",
    "\n",
    "* Create a list called `to_drop` that contains the name of every `MarkDown` column we need to drop (for a challenge, try doing this with a list comprehension!)\n",
    "* Append `\"Date\"` to `to_drop`\n",
    "* Drop these columns (in place) from our DataFrame\n",
    "* Display the number of null values in each column again to confirm that these columns have been dropped, and that our DataFrame now contains no missing values\n"
   ]
  },
  {
   "cell_type": "code",
   "execution_count": 112,
   "metadata": {},
   "outputs": [
    {
     "name": "stdout",
     "output_type": "stream",
     "text": [
      "['MarkDown1', 'MarkDown2', 'MarkDown3', 'MarkDown4', 'MarkDown5', 'Date']\n"
     ]
    }
   ],
   "source": [
    "to_drop = ['MarkDown' + str(i) for i in range(1,6)]\n",
    "date_col = ('Date')\n",
    "to_drop.append(date_col)\n",
    "print(to_drop)\n"
   ]
  },
  {
   "cell_type": "code",
   "execution_count": 116,
   "metadata": {
    "scrolled": true
   },
   "outputs": [],
   "source": [
    "df.drop(to_drop, axis=1, inplace=True)"
   ]
  },
  {
   "cell_type": "code",
   "execution_count": 117,
   "metadata": {
    "scrolled": true
   },
   "outputs": [
    {
     "name": "stdout",
     "output_type": "stream",
     "text": [
      "<class 'pandas.core.frame.DataFrame'>\n",
      "Int64Index: 97839 entries, 0 to 97838\n",
      "Data columns (total 15 columns):\n",
      "Store                97839 non-null object\n",
      "Dept                 97839 non-null object\n",
      "Weekly_Sales         97839 non-null float64\n",
      "IsHoliday            97839 non-null bool\n",
      "Type                 97839 non-null object\n",
      "Size                 97839 non-null int64\n",
      "Temperature          97839 non-null float64\n",
      "Fuel_Price           97839 non-null float64\n",
      "CPI                  97839 non-null float64\n",
      "Unemployment         97839 non-null float64\n",
      "binned_markdown_1    97839 non-null object\n",
      "binned_markdown_2    97839 non-null object\n",
      "binned_markdown_3    97839 non-null object\n",
      "binned_markdown_4    97839 non-null object\n",
      "binned_markdown_5    97839 non-null object\n",
      "dtypes: bool(1), float64(5), int64(1), object(8)\n",
      "memory usage: 13.8+ MB\n"
     ]
    }
   ],
   "source": [
    "df.info()"
   ]
  },
  {
   "cell_type": "code",
   "execution_count": 118,
   "metadata": {},
   "outputs": [
    {
     "data": {
      "text/plain": [
       "Store                0\n",
       "Dept                 0\n",
       "Weekly_Sales         0\n",
       "IsHoliday            0\n",
       "Type                 0\n",
       "Size                 0\n",
       "Temperature          0\n",
       "Fuel_Price           0\n",
       "CPI                  0\n",
       "Unemployment         0\n",
       "binned_markdown_1    0\n",
       "binned_markdown_2    0\n",
       "binned_markdown_3    0\n",
       "binned_markdown_4    0\n",
       "binned_markdown_5    0\n",
       "dtype: int64"
      ]
     },
     "execution_count": 118,
     "metadata": {},
     "output_type": "execute_result"
    }
   ],
   "source": [
    "df.isna().sum()"
   ]
  },
  {
   "cell_type": "markdown",
   "metadata": {},
   "source": [
    "### Checking for Multicollinearity\n",
    "\n",
    "\n",
    "Before we one-hot encode our categorical columns, we'll want to quickly check the dataset for multicollinearity, since this can really mess up our model if it exists in the dataset.  We want to make sure that the columns within the dataset are not highly correlated. \n",
    "\n",
    "We'll do this by creating a correlation heatmap. We want to do this before one-hot-encoding our data because each column becomes both a row and a column in the visualization, and after one-hot encoding, this dataset will contain over 300 columns!\n",
    "\n",
    "The [seaborn documentation](https://seaborn.pydata.org/examples/many_pairwise_correlations.html) provides some great code samples to help us figure out how to display a Correlation Heatmap.  \n",
    "\n",
    "Check out this documentation, and then modify the code included so that it displays a Correlation Heatmap for our dataset below."
   ]
  },
  {
   "cell_type": "code",
   "execution_count": 128,
   "metadata": {
    "scrolled": true
   },
   "outputs": [
    {
     "data": {
      "text/plain": [
       "<matplotlib.axes._subplots.AxesSubplot at 0x272dfa1c518>"
      ]
     },
     "execution_count": 128,
     "metadata": {},
     "output_type": "execute_result"
    },
    {
     "data": {
      "image/png": "[encoded data removed]",
      "text/plain": [
       "<Figure size 792x648 with 2 Axes>"
      ]
     },
     "metadata": {},
     "output_type": "display_data"
    }
   ],
   "source": [
    "# Set the style of the visualization\n",
    "sns.set(style=\"white\")\n",
    "\n",
    "# Create a covariance matrix\n",
    "corr = df.corr()\n",
    "\n",
    "# Generate a mask the size of our covariance matrix\n",
    "mask = np.zeros_like(corr, dtype = np.bool)\n",
    "mask[np.triu_indices_from(mask)] = True\n",
    "\n",
    "# Set up the matplotlib figure\n",
    "f, ax = plt.subplots(figsize = (11,9))\n",
    "\n",
    "# Generate a custom diverging colormap\n",
    "cmap = sns.diverging_palette(220, 10, as_cmap=True)\n",
    "\n",
    "# Draw the heatmap with the mask and correct aspect ratio\n",
    "sns.heatmap(corr, mask=mask, cmap=cmap, vmax=.3, center=0, square=True, linewidths=.5, cbar_kws={\"shrink\": .5})"
   ]
  },
  {
   "cell_type": "code",
   "execution_count": 121,
   "metadata": {},
   "outputs": [
    {
     "data": {
      "text/html": [
       "<div>\n",
       "<style scoped>\n",
       "    .dataframe tbody tr th:only-of-type {\n",
       "        vertical-align: middle;\n",
       "    }\n",
       "\n",
       "    .dataframe tbody tr th {\n",
       "        vertical-align: top;\n",
       "    }\n",
       "\n",
       "    .dataframe thead th {\n",
       "        text-align: right;\n",
       "    }\n",
       "</style>\n",
       "<table border=\"1\" class=\"dataframe\">\n",
       "  <thead>\n",
       "    <tr style=\"text-align: right;\">\n",
       "      <th></th>\n",
       "      <th>Weekly_Sales</th>\n",
       "      <th>IsHoliday</th>\n",
       "      <th>Size</th>\n",
       "      <th>Temperature</th>\n",
       "      <th>Fuel_Price</th>\n",
       "      <th>CPI</th>\n",
       "      <th>Unemployment</th>\n",
       "    </tr>\n",
       "  </thead>\n",
       "  <tbody>\n",
       "    <tr>\n",
       "      <th>Weekly_Sales</th>\n",
       "      <td>1.000000</td>\n",
       "      <td>0.014668</td>\n",
       "      <td>0.292869</td>\n",
       "      <td>0.031852</td>\n",
       "      <td>0.028336</td>\n",
       "      <td>-0.198521</td>\n",
       "      <td>0.029184</td>\n",
       "    </tr>\n",
       "    <tr>\n",
       "      <th>IsHoliday</th>\n",
       "      <td>0.014668</td>\n",
       "      <td>1.000000</td>\n",
       "      <td>-0.000024</td>\n",
       "      <td>-0.169863</td>\n",
       "      <td>-0.085941</td>\n",
       "      <td>-0.002695</td>\n",
       "      <td>0.023351</td>\n",
       "    </tr>\n",
       "    <tr>\n",
       "      <th>Size</th>\n",
       "      <td>0.292869</td>\n",
       "      <td>-0.000024</td>\n",
       "      <td>1.000000</td>\n",
       "      <td>0.086482</td>\n",
       "      <td>-0.015891</td>\n",
       "      <td>-0.213937</td>\n",
       "      <td>-0.178502</td>\n",
       "    </tr>\n",
       "    <tr>\n",
       "      <th>Temperature</th>\n",
       "      <td>0.031852</td>\n",
       "      <td>-0.169863</td>\n",
       "      <td>0.086482</td>\n",
       "      <td>1.000000</td>\n",
       "      <td>0.229494</td>\n",
       "      <td>0.043494</td>\n",
       "      <td>-0.207910</td>\n",
       "    </tr>\n",
       "    <tr>\n",
       "      <th>Fuel_Price</th>\n",
       "      <td>0.028336</td>\n",
       "      <td>-0.085941</td>\n",
       "      <td>-0.015891</td>\n",
       "      <td>0.229494</td>\n",
       "      <td>1.000000</td>\n",
       "      <td>-0.080235</td>\n",
       "      <td>-0.232729</td>\n",
       "    </tr>\n",
       "    <tr>\n",
       "      <th>CPI</th>\n",
       "      <td>-0.198521</td>\n",
       "      <td>-0.002695</td>\n",
       "      <td>-0.213937</td>\n",
       "      <td>0.043494</td>\n",
       "      <td>-0.080235</td>\n",
       "      <td>1.000000</td>\n",
       "      <td>-0.193640</td>\n",
       "    </tr>\n",
       "    <tr>\n",
       "      <th>Unemployment</th>\n",
       "      <td>0.029184</td>\n",
       "      <td>0.023351</td>\n",
       "      <td>-0.178502</td>\n",
       "      <td>-0.207910</td>\n",
       "      <td>-0.232729</td>\n",
       "      <td>-0.193640</td>\n",
       "      <td>1.000000</td>\n",
       "    </tr>\n",
       "  </tbody>\n",
       "</table>\n",
       "</div>"
      ],
      "text/plain": [
       "              Weekly_Sales  IsHoliday      Size  Temperature  Fuel_Price  \\\n",
       "Weekly_Sales      1.000000   0.014668  0.292869     0.031852    0.028336   \n",
       "IsHoliday         0.014668   1.000000 -0.000024    -0.169863   -0.085941   \n",
       "Size              0.292869  -0.000024  1.000000     0.086482   -0.015891   \n",
       "Temperature       0.031852  -0.169863  0.086482     1.000000    0.229494   \n",
       "Fuel_Price        0.028336  -0.085941 -0.015891     0.229494    1.000000   \n",
       "CPI              -0.198521  -0.002695 -0.213937     0.043494   -0.080235   \n",
       "Unemployment      0.029184   0.023351 -0.178502    -0.207910   -0.232729   \n",
       "\n",
       "                   CPI  Unemployment  \n",
       "Weekly_Sales -0.198521      0.029184  \n",
       "IsHoliday    -0.002695      0.023351  \n",
       "Size         -0.213937     -0.178502  \n",
       "Temperature   0.043494     -0.207910  \n",
       "Fuel_Price   -0.080235     -0.232729  \n",
       "CPI           1.000000     -0.193640  \n",
       "Unemployment -0.193640      1.000000  "
      ]
     },
     "execution_count": 121,
     "metadata": {},
     "output_type": "execute_result"
    }
   ],
   "source": [
    "df.corr()"
   ]
  },
  {
   "cell_type": "markdown",
   "metadata": {},
   "source": [
    "Interpret the Correlation Heatmap we created above to answer the following questions:\n",
    "\n",
    "Which columns are highly correlated with the target column our model will predict?  Are any of our predictor columns highly correlated enough that we should consider dropping them?  Explain your answer.\n",
    "\n",
    "Write your answer below this line:\n",
    "<i>The columns Size, Temperature and Fuel_Price appear to be correlated to Weekly_Sales.  Correlations in the 0.7-0.8 range are considered \"high\" and would be candidates to be dropped.  Nothing in the above correlation chart approaches those figures so I would not drop any of these variables.</i>\n",
    "\n",
    "\n",
    "\n",
    "## Normalizing our Data\n",
    "\n",
    "Now, we'll need to convert all of our numeric columns to the same scale by **_normalizing_** our dataset.  Recall that we normalize our dataset by converting each numeric value to it's corresponding z-score for the column, which is obtained by subtracting the column's mean and then dividing by the column's standard deviation for every value. \n",
    "\n",
    "Since we only have 4 columns containing numeric data that needs to be normalized, we'll do this by hand in the cell below. This allows us to avoid errors that stem from trying to normalize datasets that contain strings in all of our categorical columns. Plus, it's good practice to help us remember how normalization works!\n",
    "\n",
    "In the cell below:\n",
    "\n",
    "* Normalize the following columns individually: `Size`, `Temperature`, `Fuel_Price`, `CPI`, and `Unemployment` by subtracting the column mean and dividing by the column standard deviation. "
   ]
  },
  {
   "cell_type": "code",
   "execution_count": null,
   "metadata": {},
   "outputs": [],
   "source": [
    "df.Size = None\n",
    "df.Temperature = None\n",
    "df.Fuel_Price = None\n",
    "df.CPI = None\n",
    "df.Unemployment = None"
   ]
  },
  {
   "cell_type": "markdown",
   "metadata": {},
   "source": [
    "## One-Hot Encoding Categorical Columns\n",
    "\n",
    "For our final step, we'll need to deal with our categorical columns.  Categorical data work work for our modeling step--we'll need to convert these to numeric columns through **_one-hot encoding_**.  \n",
    "\n",
    "In the cell below, use the [appropriate function in pandas](https://pandas.pydata.org/pandas-docs/stable/generated/pandas.get_dummies.html) to one-hot encode the dataset."
   ]
  },
  {
   "cell_type": "code",
   "execution_count": null,
   "metadata": {},
   "outputs": [],
   "source": [
    "df = None"
   ]
  },
  {
   "cell_type": "code",
   "execution_count": null,
   "metadata": {},
   "outputs": [],
   "source": [
    "df.head()"
   ]
  },
  {
   "cell_type": "markdown",
   "metadata": {},
   "source": [
    "That's it! We've now successfully scrubbed our dataset--we're now ready for data exploration and modeling.\n",
    "\n",
    "## Conclusion\n",
    "\n",
    "In this lesson, we learned gain practice with data cleaning by:\n",
    "\n",
    "* Casting columns to the appropriate data types\n",
    "* Identifying and deal with null values appropriately\n",
    "* Removing unnecessary columns\n",
    "* Checking for and deal with multicollinearity\n",
    "* Normalizing our data"
   ]
  }
 ],
 "metadata": {
  "kernelspec": {
   "display_name": "learn-env",
   "language": "python",
   "name": "learn-env"
  },
  "language_info": {
   "codemirror_mode": {
    "name": "ipython",
    "version": 3
   },
   "file_extension": ".py",
   "mimetype": "text/x-python",
   "name": "python",
   "nbconvert_exporter": "python",
   "pygments_lexer": "ipython3",
   "version": "3.6.6"
  }
 },
 "nbformat": 4,
 "nbformat_minor": 2
}
